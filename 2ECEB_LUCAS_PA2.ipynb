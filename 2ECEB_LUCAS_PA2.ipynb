{
 "cells": [
  {
   "cell_type": "markdown",
   "id": "54b0fa25-608b-4a76-8ee4-e97daf750c92",
   "metadata": {},
   "source": [
    "# Experiment 2 - Numerical Python (NUMPY)"
   ]
  },
  {
   "cell_type": "markdown",
   "id": "701dec86-6c34-447e-bdef-3e2e35418a1e",
   "metadata": {},
   "source": [
    "**NORMALIZATION PROBLEM**: Normalization is one of the most basic preprocessing techniques in\n",
    "data analytics. This involves centering and scaling process. Centering means subtracting the data from the\n",
    "mean and scaling means dividing with its standard deviation. Mathematically, normalization can be\n",
    "expressed as: \n",
    "\n",
    "$$\n",
    "Z = \\frac{X - \\mu}{\\sigma}\n",
    "$$\n",
    "\n",
    "In Python, element-wise mean and element-wise standard deviation can be obtained by using .mean() and\n",
    ".std() calls. \n",
    "\n",
    "In this problem, create a random 5 x 5 ndarray and store it to variable X. Normalize X. Save your normalized\n",
    "ndarray as *X_normalized.npy*"
   ]
  },
  {
   "cell_type": "code",
   "execution_count": 64,
   "id": "f8eec9fe-b71b-4285-8f3f-e60074042539",
   "metadata": {},
   "outputs": [
    {
     "name": "stdout",
     "output_type": "stream",
     "text": [
      "[[0.15876216 0.09505427 0.02329905 0.07021459 0.9851757 ]\n",
      " [0.54567002 0.35925278 0.31503234 0.9796749  0.8683845 ]\n",
      " [0.32408004 0.13029327 0.76157271 0.03299959 0.07205149]\n",
      " [0.80377121 0.43078823 0.20760617 0.38777069 0.35175575]\n",
      " [0.5645121  0.34542222 0.94183019 0.25156594 0.13635565]]\n",
      "\n",
      "[[-0.79719142 -1.00284694 -1.23448005 -1.08303192  1.87055514]\n",
      " [ 0.45178631 -0.14998741 -0.29273546  1.85279799  1.49354134]\n",
      " [-0.26352857 -0.88909188  1.14874205 -1.20316572 -1.07710223]\n",
      " [ 1.28496307  0.08093626 -0.63951802 -0.05792869 -0.17418856]\n",
      " [ 0.51261046 -0.19463386  1.73063144 -0.49761142 -0.86952191]]\n"
     ]
    }
   ],
   "source": [
    "import numpy as np\n",
    "\n",
    "X = np.random.random((5,5))          # creates a 5x5 array with random values\n",
    "M = np.mean(X)                       # computes the mean of array X\n",
    "SD = np.std(X)                       # computes the standard deviation of array X\n",
    "Z = (X-M) / SD                       # performs the normalization equation\n",
    "np.save(\"X_normalized.npy\",Z)        # saves array Z as \"X_normalized.npy\"\n",
    "data = np.load(\"X_normalized.npy\")   # loads the array from file \"X_normalized.npy\"\n",
    "\n",
    "print(X)\n",
    "print (\"\")\n",
    "print (data)"
   ]
  },
  {
   "cell_type": "markdown",
   "id": "4cba390b-7edc-4d39-b149-d7c886fd2e4f",
   "metadata": {},
   "source": [
    "**DIVISIBLE BY 3 PROBLEM**: Create the following 10 x 10 ndarray.\n",
    "\n",
    "$$\n",
    "A = \n",
    "\\begin{bmatrix}\n",
    "1 & 4 & \\cdots & 81 & 100 \\\\\n",
    "\\vdots & \\vdots & \\ddots & \\vdots & \\vdots \\\\\n",
    "\\vdots & \\vdots & \\ddots & \\vdots & \\vdots \\\\\n",
    "\\vdots & \\vdots & \\ddots & \\vdots & \\vdots \\\\\n",
    "8281 & 8464 & \\cdots & 9801 & 10000\n",
    "\\end{bmatrix}\n",
    "$$\n",
    "\n",
    "which are the squares of the first 100 positive integers.\n",
    "\n",
    "From this ndarray, determine all the elements that are divisible by 3. Save the result as *div_by_3.npy*"
   ]
  },
  {
   "cell_type": "code",
   "execution_count": 65,
   "id": "2c076cb7-32e3-4af7-a0f5-d4266804d5f1",
   "metadata": {},
   "outputs": [
    {
     "name": "stdout",
     "output_type": "stream",
     "text": [
      "[[    1     4     9    16    25    36    49    64    81   100]\n",
      " [  121   144   169   196   225   256   289   324   361   400]\n",
      " [  441   484   529   576   625   676   729   784   841   900]\n",
      " [  961  1024  1089  1156  1225  1296  1369  1444  1521  1600]\n",
      " [ 1681  1764  1849  1936  2025  2116  2209  2304  2401  2500]\n",
      " [ 2601  2704  2809  2916  3025  3136  3249  3364  3481  3600]\n",
      " [ 3721  3844  3969  4096  4225  4356  4489  4624  4761  4900]\n",
      " [ 5041  5184  5329  5476  5625  5776  5929  6084  6241  6400]\n",
      " [ 6561  6724  6889  7056  7225  7396  7569  7744  7921  8100]\n",
      " [ 8281  8464  8649  8836  9025  9216  9409  9604  9801 10000]]\n",
      "\n",
      "[   9   36   81  144  225  324  441  576  729  900 1089 1296 1521 1764\n",
      " 2025 2304 2601 2916 3249 3600 3969 4356 4761 5184 5625 6084 6561 7056\n",
      " 7569 8100 8649 9216 9801]\n"
     ]
    }
   ],
   "source": [
    "import numpy as np\n",
    "\n",
    "arr = np.arange(1,101,1)                     # creates an array with values from 1 to 100\n",
    "arr_squared = arr ** 2                       # squares each element of the array\n",
    "arr_squared = arr_squared.reshape(10,10)     # reshapes the array into 10x10 2D array\n",
    " \n",
    "div = arr_squared[arr_squared % 3 == 0]      # selects elements divisible by 3\n",
    "np.save(\"div_by_3.npy\", div)                 # saves array div as \"div_by_3.npy\"\n",
    "div_final = np.load(\"div_by_3.npy\")          # loads the array from file \"div_by_3.npy\"\n",
    "\n",
    "print(arr_squared)\n",
    "print(\"\")\n",
    "print(div_final)"
   ]
  }
 ],
 "metadata": {
  "kernelspec": {
   "display_name": "Python 3 (ipykernel)",
   "language": "python",
   "name": "python3"
  },
  "language_info": {
   "codemirror_mode": {
    "name": "ipython",
    "version": 3
   },
   "file_extension": ".py",
   "mimetype": "text/x-python",
   "name": "python",
   "nbconvert_exporter": "python",
   "pygments_lexer": "ipython3",
   "version": "3.13.5"
  }
 },
 "nbformat": 4,
 "nbformat_minor": 5
}
